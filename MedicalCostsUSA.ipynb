{
 "cells": [
  {
   "cell_type": "markdown",
   "metadata": {},
   "source": [
    "# Medical Cost Predictions"
   ]
  },
  {
   "cell_type": "markdown",
   "metadata": {},
   "source": [
    "Thank you for stopping by! This is my first project from scratch with no insight or input from course instructors so any feedback would be greatly appreciated to help me continue to expand my knowledge! I would also appreciate any insight on where everyone's go-to sources are to research algorithms and python code."
   ]
  },
  {
   "cell_type": "markdown",
   "metadata": {},
   "source": [
    "## Background"
   ]
  },
  {
   "cell_type": "markdown",
   "metadata": {},
   "source": [
    "The United States spends significantly more money on healthcare than any other country around the world.  Spending is expected to continue to grow with The Centers for Medicare and Medicaid Services (CMS) projecting that by 2028, costs will climb to $6.2 trillion, or about $18,000 per person, and will represent about 20 percent of GDP. With an aging population and actual costs of services expected to increase as well it will be of great value for insurance companies, healthcare companies and patients to have an idea of where their future costs may be.  "
   ]
  },
  {
   "cell_type": "markdown",
   "metadata": {},
   "source": [
    "## Problem"
   ]
  },
  {
   "cell_type": "markdown",
   "metadata": {},
   "source": [
    "We will be looking to answer the following question through prediction modeling: **What will a patient's future healthcare costs look like?**"
   ]
  },
  {
   "cell_type": "markdown",
   "metadata": {},
   "source": [
    "## About the Data"
   ]
  },
  {
   "cell_type": "markdown",
   "metadata": {},
   "source": [
    "The data we will be using for this project is an open-source data source from Kaggle regarding insurance costs.\r\n",
    "\r\n",
    "To begin we will:\r\n",
    "\r\n",
    "* Import our dataset\r\n",
    "* Create our dataset into a dataframe"
   ]
  },
  {
   "cell_type": "code",
   "execution_count": 254,
   "metadata": {},
   "outputs": [
    {
     "name": "stdout",
     "output_type": "stream",
     "text": [
      "3.8.5 (default, Sep  3 2020, 21:29:08) [MSC v.1916 64 bit (AMD64)]\n"
     ]
    }
   ],
   "source": [
    "import sys\r\n",
    "print(sys.version)"
   ]
  },
  {
   "cell_type": "code",
   "execution_count": 255,
   "metadata": {},
   "outputs": [
    {
     "name": "stdout",
     "output_type": "stream",
     "text": [
      "libraries imported\n"
     ]
    }
   ],
   "source": [
    "import numpy as np #for dealing with arrays\r\n",
    "import pandas as pd #for dealing with dataframes\r\n",
    "import matplotlib.pyplot as plt #for visualization with matplotlib\r\n",
    "import matplotlib.ticker as ticker\r\n",
    "from matplotlib.ticker import NullFormatter\r\n",
    "%matplotlib inline\r\n",
    "import seaborn as sns #for visualization with seaborn\r\n",
    "from scipy import stats #for descriptive statistics such as pearson coef\r\n",
    "import itertools\r\n",
    "from sklearn import preprocessing\r\n",
    "\r\n",
    "\r\n",
    "print('libraries imported')"
   ]
  },
  {
   "cell_type": "code",
   "execution_count": 256,
   "metadata": {},
   "outputs": [
    {
     "data": {
      "text/html": "<div>\n<style scoped>\n    .dataframe tbody tr th:only-of-type {\n        vertical-align: middle;\n    }\n\n    .dataframe tbody tr th {\n        vertical-align: top;\n    }\n\n    .dataframe thead th {\n        text-align: right;\n    }\n</style>\n<table border=\"1\" class=\"dataframe\">\n  <thead>\n    <tr style=\"text-align: right;\">\n      <th></th>\n      <th>age</th>\n      <th>sex</th>\n      <th>bmi</th>\n      <th>children</th>\n      <th>smoker</th>\n      <th>region</th>\n      <th>charges</th>\n    </tr>\n  </thead>\n  <tbody>\n    <tr>\n      <th>0</th>\n      <td>19</td>\n      <td>female</td>\n      <td>27.900</td>\n      <td>0</td>\n      <td>yes</td>\n      <td>southwest</td>\n      <td>16884.92400</td>\n    </tr>\n    <tr>\n      <th>1</th>\n      <td>18</td>\n      <td>male</td>\n      <td>33.770</td>\n      <td>1</td>\n      <td>no</td>\n      <td>southeast</td>\n      <td>1725.55230</td>\n    </tr>\n    <tr>\n      <th>2</th>\n      <td>28</td>\n      <td>male</td>\n      <td>33.000</td>\n      <td>3</td>\n      <td>no</td>\n      <td>southeast</td>\n      <td>4449.46200</td>\n    </tr>\n    <tr>\n      <th>3</th>\n      <td>33</td>\n      <td>male</td>\n      <td>22.705</td>\n      <td>0</td>\n      <td>no</td>\n      <td>northwest</td>\n      <td>21984.47061</td>\n    </tr>\n    <tr>\n      <th>4</th>\n      <td>32</td>\n      <td>male</td>\n      <td>28.880</td>\n      <td>0</td>\n      <td>no</td>\n      <td>northwest</td>\n      <td>3866.85520</td>\n    </tr>\n  </tbody>\n</table>\n</div>",
      "text/plain": "   age     sex     bmi  children smoker     region      charges\n0   19  female  27.900         0    yes  southwest  16884.92400\n1   18    male  33.770         1     no  southeast   1725.55230\n2   28    male  33.000         3     no  southeast   4449.46200\n3   33    male  22.705         0     no  northwest  21984.47061\n4   32    male  28.880         0     no  northwest   3866.85520"
     },
     "execution_count": 256,
     "metadata": {},
     "output_type": "execute_result"
    }
   ],
   "source": [
    "df = pd.read_csv('insurance.csv')\r\n",
    "df.head()"
   ]
  },
  {
   "cell_type": "markdown",
   "metadata": {},
   "source": [
    "## Data Cleaning/Wrangling"
   ]
  },
  {
   "cell_type": "markdown",
   "metadata": {},
   "source": [
    "First I will check for missing data values:\r\n",
    "\r\n",
    "Here I will:\r\n",
    "\r\n",
    "* Verify if any missing values\r\n",
    "* Verify if any duplicates\r\n",
    "* Verify format of the data and reformat if necessary\r\n",
    "* Normalize the data if necessary\r\n",
    "* Perform binning of the data if necessary\r\n",
    "* Turn categorical variables into quantitative variables"
   ]
  },
  {
   "cell_type": "code",
   "execution_count": 257,
   "metadata": {},
   "outputs": [
    {
     "data": {
      "text/plain": "age         0\nsex         0\nbmi         0\nchildren    0\nsmoker      0\nregion      0\ncharges     0\ndtype: int64"
     },
     "execution_count": 257,
     "metadata": {},
     "output_type": "execute_result"
    }
   ],
   "source": [
    "#any missing values?\r\n",
    "pd.set_option(\"display.max_rows\", 100)\r\n",
    "pd.set_option(\"display.max_columns\", 85)\r\n",
    "df.isnull().sum()"
   ]
  },
  {
   "cell_type": "code",
   "execution_count": 258,
   "metadata": {},
   "outputs": [
    {
     "data": {
      "text/plain": "age         1\nsex         1\nbmi         1\nchildren    1\nsmoker      1\nregion      1\ncharges     1\ndtype: int64"
     },
     "execution_count": 258,
     "metadata": {},
     "output_type": "execute_result"
    }
   ],
   "source": [
    "duplicate = df[df.duplicated()]\r\n",
    "duplicate.count()"
   ]
  },
  {
   "cell_type": "code",
   "execution_count": 259,
   "metadata": {},
   "outputs": [
    {
     "data": {
      "text/html": "<div>\n<style scoped>\n    .dataframe tbody tr th:only-of-type {\n        vertical-align: middle;\n    }\n\n    .dataframe tbody tr th {\n        vertical-align: top;\n    }\n\n    .dataframe thead th {\n        text-align: right;\n    }\n</style>\n<table border=\"1\" class=\"dataframe\">\n  <thead>\n    <tr style=\"text-align: right;\">\n      <th></th>\n      <th>age</th>\n      <th>sex</th>\n      <th>bmi</th>\n      <th>children</th>\n      <th>smoker</th>\n      <th>region</th>\n      <th>charges</th>\n    </tr>\n  </thead>\n  <tbody>\n    <tr>\n      <th>0</th>\n      <td>19</td>\n      <td>female</td>\n      <td>27.900</td>\n      <td>0</td>\n      <td>yes</td>\n      <td>southwest</td>\n      <td>16884.92400</td>\n    </tr>\n    <tr>\n      <th>1</th>\n      <td>18</td>\n      <td>male</td>\n      <td>33.770</td>\n      <td>1</td>\n      <td>no</td>\n      <td>southeast</td>\n      <td>1725.55230</td>\n    </tr>\n    <tr>\n      <th>2</th>\n      <td>28</td>\n      <td>male</td>\n      <td>33.000</td>\n      <td>3</td>\n      <td>no</td>\n      <td>southeast</td>\n      <td>4449.46200</td>\n    </tr>\n    <tr>\n      <th>3</th>\n      <td>33</td>\n      <td>male</td>\n      <td>22.705</td>\n      <td>0</td>\n      <td>no</td>\n      <td>northwest</td>\n      <td>21984.47061</td>\n    </tr>\n    <tr>\n      <th>4</th>\n      <td>32</td>\n      <td>male</td>\n      <td>28.880</td>\n      <td>0</td>\n      <td>no</td>\n      <td>northwest</td>\n      <td>3866.85520</td>\n    </tr>\n    <tr>\n      <th>...</th>\n      <td>...</td>\n      <td>...</td>\n      <td>...</td>\n      <td>...</td>\n      <td>...</td>\n      <td>...</td>\n      <td>...</td>\n    </tr>\n    <tr>\n      <th>1333</th>\n      <td>50</td>\n      <td>male</td>\n      <td>30.970</td>\n      <td>3</td>\n      <td>no</td>\n      <td>northwest</td>\n      <td>10600.54830</td>\n    </tr>\n    <tr>\n      <th>1334</th>\n      <td>18</td>\n      <td>female</td>\n      <td>31.920</td>\n      <td>0</td>\n      <td>no</td>\n      <td>northeast</td>\n      <td>2205.98080</td>\n    </tr>\n    <tr>\n      <th>1335</th>\n      <td>18</td>\n      <td>female</td>\n      <td>36.850</td>\n      <td>0</td>\n      <td>no</td>\n      <td>southeast</td>\n      <td>1629.83350</td>\n    </tr>\n    <tr>\n      <th>1336</th>\n      <td>21</td>\n      <td>female</td>\n      <td>25.800</td>\n      <td>0</td>\n      <td>no</td>\n      <td>southwest</td>\n      <td>2007.94500</td>\n    </tr>\n    <tr>\n      <th>1337</th>\n      <td>61</td>\n      <td>female</td>\n      <td>29.070</td>\n      <td>0</td>\n      <td>yes</td>\n      <td>northwest</td>\n      <td>29141.36030</td>\n    </tr>\n  </tbody>\n</table>\n<p>1337 rows × 7 columns</p>\n</div>",
      "text/plain": "      age     sex     bmi  children smoker     region      charges\n0      19  female  27.900         0    yes  southwest  16884.92400\n1      18    male  33.770         1     no  southeast   1725.55230\n2      28    male  33.000         3     no  southeast   4449.46200\n3      33    male  22.705         0     no  northwest  21984.47061\n4      32    male  28.880         0     no  northwest   3866.85520\n...   ...     ...     ...       ...    ...        ...          ...\n1333   50    male  30.970         3     no  northwest  10600.54830\n1334   18  female  31.920         0     no  northeast   2205.98080\n1335   18  female  36.850         0     no  southeast   1629.83350\n1336   21  female  25.800         0     no  southwest   2007.94500\n1337   61  female  29.070         0    yes  northwest  29141.36030\n\n[1337 rows x 7 columns]"
     },
     "execution_count": 259,
     "metadata": {},
     "output_type": "execute_result"
    }
   ],
   "source": [
    "dup = df.drop_duplicates(keep=\"first\", inplace = True)\r\n",
    "df"
   ]
  },
  {
   "cell_type": "code",
   "execution_count": 260,
   "metadata": {},
   "outputs": [
    {
     "data": {
      "text/plain": "0"
     },
     "execution_count": 260,
     "metadata": {},
     "output_type": "execute_result"
    }
   ],
   "source": [
    "duplicates2 = df[df.duplicated()]\r\n",
    "verify_duplicates = len(duplicates2)\r\n",
    "verify_duplicates"
   ]
  },
  {
   "cell_type": "markdown",
   "metadata": {},
   "source": [
    "This confirms there are no missing values and we dropped the duplicate rows, now I will verify the types of data in the dataframe:"
   ]
  },
  {
   "cell_type": "code",
   "execution_count": 261,
   "metadata": {},
   "outputs": [
    {
     "data": {
      "text/plain": "age           int64\nsex          object\nbmi         float64\nchildren      int64\nsmoker       object\nregion       object\ncharges     float64\ndtype: object"
     },
     "execution_count": 261,
     "metadata": {},
     "output_type": "execute_result"
    }
   ],
   "source": [
    "df.dtypes"
   ]
  },
  {
   "cell_type": "code",
   "execution_count": 262,
   "metadata": {},
   "outputs": [
    {
     "data": {
      "text/html": "<div>\n<style scoped>\n    .dataframe tbody tr th:only-of-type {\n        vertical-align: middle;\n    }\n\n    .dataframe tbody tr th {\n        vertical-align: top;\n    }\n\n    .dataframe thead th {\n        text-align: right;\n    }\n</style>\n<table border=\"1\" class=\"dataframe\">\n  <thead>\n    <tr style=\"text-align: right;\">\n      <th></th>\n      <th>age</th>\n      <th>sex</th>\n      <th>bmi</th>\n      <th>children</th>\n      <th>smoker</th>\n      <th>region</th>\n      <th>charges</th>\n    </tr>\n  </thead>\n  <tbody>\n    <tr>\n      <th>0</th>\n      <td>19</td>\n      <td>female</td>\n      <td>27.900</td>\n      <td>0</td>\n      <td>yes</td>\n      <td>southwest</td>\n      <td>16884.92400</td>\n    </tr>\n    <tr>\n      <th>1</th>\n      <td>18</td>\n      <td>male</td>\n      <td>33.770</td>\n      <td>1</td>\n      <td>no</td>\n      <td>southeast</td>\n      <td>1725.55230</td>\n    </tr>\n    <tr>\n      <th>2</th>\n      <td>28</td>\n      <td>male</td>\n      <td>33.000</td>\n      <td>3</td>\n      <td>no</td>\n      <td>southeast</td>\n      <td>4449.46200</td>\n    </tr>\n    <tr>\n      <th>3</th>\n      <td>33</td>\n      <td>male</td>\n      <td>22.705</td>\n      <td>0</td>\n      <td>no</td>\n      <td>northwest</td>\n      <td>21984.47061</td>\n    </tr>\n    <tr>\n      <th>4</th>\n      <td>32</td>\n      <td>male</td>\n      <td>28.880</td>\n      <td>0</td>\n      <td>no</td>\n      <td>northwest</td>\n      <td>3866.85520</td>\n    </tr>\n  </tbody>\n</table>\n</div>",
      "text/plain": "   age     sex     bmi  children smoker     region      charges\n0   19  female  27.900         0    yes  southwest  16884.92400\n1   18    male  33.770         1     no  southeast   1725.55230\n2   28    male  33.000         3     no  southeast   4449.46200\n3   33    male  22.705         0     no  northwest  21984.47061\n4   32    male  28.880         0     no  northwest   3866.85520"
     },
     "execution_count": 262,
     "metadata": {},
     "output_type": "execute_result"
    }
   ],
   "source": [
    "df.head()"
   ]
  },
  {
   "cell_type": "markdown",
   "metadata": {},
   "source": [
    "The dataframe looks good - we are ready to start!"
   ]
  },
  {
   "cell_type": "markdown",
   "metadata": {},
   "source": [
    "## Exploratory Data Analysis"
   ]
  },
  {
   "cell_type": "markdown",
   "metadata": {},
   "source": [
    "Here I will look at:\r\n",
    "\r\n",
    "* Implementing descriptive statistics\r\n",
    "* Group data as necessary\r\n",
    "* Eliminate outliers if necessary\r\n",
    "* Look at data correlations"
   ]
  },
  {
   "cell_type": "code",
   "execution_count": 263,
   "metadata": {},
   "outputs": [
    {
     "data": {
      "image/png": "[encoded data removed]",
      "text/plain": "<Figure size 432x216 with 2 Axes>"
     },
     "metadata": {
      "needs_background": "light"
     },
     "output_type": "display_data"
    }
   ],
   "source": [
    "bins = np.linspace(df.charges.min(), df.charges.max(), 10)\r\n",
    "g = sns.FacetGrid(df, col=\"sex\", hue=\"region\", palette=\"Set1\", col_wrap=2)\r\n",
    "g.map(plt.hist, 'charges', bins=bins, ec=\"k\")\r\n",
    "\r\n",
    "g.axes[-1].legend()\r\n",
    "plt.show()"
   ]
  },
  {
   "cell_type": "markdown",
   "metadata": {},
   "source": [
    "From this we can see that the Southeast and Northeast have higher costs in both males and females "
   ]
  },
  {
   "cell_type": "code",
   "execution_count": 264,
   "metadata": {},
   "outputs": [
    {
     "data": {
      "text/plain": "<seaborn.axisgrid.FacetGrid at 0x25a640022b0>"
     },
     "execution_count": 264,
     "metadata": {},
     "output_type": "execute_result"
    },
    {
     "data": {
      "image/png": "[encoded data removed]",
      "text/plain": "<Figure size 360x360 with 1 Axes>"
     },
     "metadata": {
      "needs_background": "light"
     },
     "output_type": "display_data"
    }
   ],
   "source": [
    "sns.displot(df[\"charges\"])"
   ]
  },
  {
   "cell_type": "code",
   "execution_count": 265,
   "metadata": {},
   "outputs": [
    {
     "data": {
      "text/plain": "9386.1613"
     },
     "execution_count": 265,
     "metadata": {},
     "output_type": "execute_result"
    }
   ],
   "source": [
    "df[\"charges\"].median()"
   ]
  },
  {
   "cell_type": "markdown",
   "metadata": {},
   "source": [
    "Now lets take a look at age"
   ]
  },
  {
   "cell_type": "code",
   "execution_count": 266,
   "metadata": {},
   "outputs": [
    {
     "data": {
      "text/plain": "count    1337.000000\nmean       39.222139\nstd        14.044333\nmin        18.000000\n25%        27.000000\n50%        39.000000\n75%        51.000000\nmax        64.000000\nName: age, dtype: float64"
     },
     "execution_count": 266,
     "metadata": {},
     "output_type": "execute_result"
    }
   ],
   "source": [
    "a1 = df['age']  \r\n",
    "a1.describe()"
   ]
  },
  {
   "cell_type": "code",
   "execution_count": 267,
   "metadata": {},
   "outputs": [
    {
     "data": {
      "text/plain": "<AxesSubplot:xlabel='age', ylabel='Count'>"
     },
     "execution_count": 267,
     "metadata": {},
     "output_type": "execute_result"
    },
    {
     "data": {
      "image/png": "[encoded data removed]",
      "text/plain": "<Figure size 432x288 with 1 Axes>"
     },
     "metadata": {
      "needs_background": "light"
     },
     "output_type": "display_data"
    }
   ],
   "source": [
    "sns.histplot(df['age'], bins=20)"
   ]
  },
  {
   "cell_type": "markdown",
   "metadata": {},
   "source": [
    "and finally number of children"
   ]
  },
  {
   "cell_type": "code",
   "execution_count": 268,
   "metadata": {},
   "outputs": [
    {
     "data": {
      "text/plain": "<AxesSubplot:xlabel='children', ylabel='Count'>"
     },
     "execution_count": 268,
     "metadata": {},
     "output_type": "execute_result"
    },
    {
     "data": {
      "image/png": "[encoded data removed]",
      "text/plain": "<Figure size 432x288 with 1 Axes>"
     },
     "metadata": {
      "needs_background": "light"
     },
     "output_type": "display_data"
    }
   ],
   "source": [
    "sns.histplot(df['children'], bins=20)"
   ]
  },
  {
   "cell_type": "markdown",
   "metadata": {},
   "source": [
    "Now lets take a look at outliers in these two charges and age"
   ]
  },
  {
   "cell_type": "code",
   "execution_count": 269,
   "metadata": {},
   "outputs": [
    {
     "data": {
      "image/png": "[encoded data removed]",
      "text/plain": "<Figure size 432x288 with 1 Axes>"
     },
     "metadata": {
      "needs_background": "light"
     },
     "output_type": "display_data"
    }
   ],
   "source": [
    "sns.boxplot(x=df[\"charges\"])\r\n",
    "plt.show()"
   ]
  },
  {
   "cell_type": "code",
   "execution_count": 270,
   "metadata": {},
   "outputs": [
    {
     "data": {
      "text/plain": "9386.1613"
     },
     "execution_count": 270,
     "metadata": {},
     "output_type": "execute_result"
    }
   ],
   "source": [
    "df[\"charges\"].median()"
   ]
  },
  {
   "cell_type": "code",
   "execution_count": 271,
   "metadata": {},
   "outputs": [
    {
     "name": "stdout",
     "output_type": "stream",
     "text": [
      "iqr value is:  11911.37345\n"
     ]
    }
   ],
   "source": [
    "# The interquartile range is the difference between the 75th percentile and the 25th percentile.\r\n",
    "q1 = df['charges'].quantile(0.25)\r\n",
    "q3 = df['charges'].quantile(0.75)\r\n",
    "iqr = q3 - q1\r\n",
    "print('iqr value is: ',iqr)"
   ]
  },
  {
   "cell_type": "code",
   "execution_count": 272,
   "metadata": {},
   "outputs": [
    {
     "name": "stdout",
     "output_type": "stream",
     "text": [
      "lower bounds: -13120.716174999998\n",
      "upper bounds: 34524.777625\n"
     ]
    }
   ],
   "source": [
    "#find upper and lower limits\r\n",
    "lower_limit = q1 - 1.5 * iqr\r\n",
    "upper_limit = q3 + 1.5 * iqr\r\n",
    "\r\n",
    "print('lower bounds: ' + str(lower_limit))\r\n",
    "print('upper bounds: ' + str(upper_limit))"
   ]
  },
  {
   "cell_type": "code",
   "execution_count": 273,
   "metadata": {},
   "outputs": [
    {
     "data": {
      "text/plain": "charges    139\ndtype: int64"
     },
     "execution_count": 273,
     "metadata": {},
     "output_type": "execute_result"
    }
   ],
   "source": [
    "#find amount of outliers in charges\r\n",
    "cols = ['charges']\r\n",
    "((df[cols] < (q1 - 1.5 * iqr)) |(df[cols] > (q3 + 1.5 * iqr))).sum()"
   ]
  },
  {
   "cell_type": "code",
   "execution_count": 274,
   "metadata": {},
   "outputs": [
    {
     "data": {
      "image/png": "[encoded data removed]",
      "text/plain": "<Figure size 432x288 with 1 Axes>"
     },
     "metadata": {
      "needs_background": "light"
     },
     "output_type": "display_data"
    }
   ],
   "source": [
    "sns.boxplot(x=df[\"age\"])\r\n",
    "plt.show()"
   ]
  },
  {
   "cell_type": "code",
   "execution_count": 275,
   "metadata": {},
   "outputs": [
    {
     "data": {
      "text/plain": "age    0\ndtype: int64"
     },
     "execution_count": 275,
     "metadata": {},
     "output_type": "execute_result"
    }
   ],
   "source": [
    "# The interquartile range is the difference between the 75th percentile and the 25th percentile.\r\n",
    "q1a = df['age'].quantile(0.25)\r\n",
    "q3a = df['age'].quantile(0.75)\r\n",
    "iqr = q3a - q1a\r\n",
    "\r\n",
    "#find upper and lower limits\r\n",
    "lower_limit = q1a - 1.5 * iqr\r\n",
    "upper_limit = q3a + 1.5 * iqr\r\n",
    "\r\n",
    "#find amount of outliers in charges\r\n",
    "cols = ['age']\r\n",
    "((df[cols] < (q1a - 1.5 * iqr)) |(df[cols] > (q3a + 1.5 * iqr))).sum()"
   ]
  },
  {
   "cell_type": "code",
   "execution_count": 276,
   "metadata": {},
   "outputs": [
    {
     "data": {
      "image/png": "[encoded data removed]",
      "text/plain": "<Figure size 432x288 with 1 Axes>"
     },
     "metadata": {
      "needs_background": "light"
     },
     "output_type": "display_data"
    }
   ],
   "source": [
    "sns.boxplot(x=df[\"children\"])\r\n",
    "plt.show()"
   ]
  },
  {
   "cell_type": "code",
   "execution_count": 277,
   "metadata": {},
   "outputs": [
    {
     "data": {
      "text/plain": "children    0\ndtype: int64"
     },
     "execution_count": 277,
     "metadata": {},
     "output_type": "execute_result"
    }
   ],
   "source": [
    "#find iqr\r\n",
    "q1b = df['children'].quantile(0.25)\r\n",
    "q3b = df['children'].quantile(0.75)\r\n",
    "iqr = q3b - q1b\r\n",
    "\r\n",
    "#find upper and lower limits\r\n",
    "lower_limit = q1b - 1.5 * iqr\r\n",
    "upper_limit = q3b + 1.5 * iqr\r\n",
    "\r\n",
    "#find amount of outliers in charges\r\n",
    "cols = ['children']\r\n",
    "((df[cols] < (q1b - 1.5 * iqr)) |(df[cols] > (q3b + 1.5 * iqr))).sum()"
   ]
  },
  {
   "cell_type": "markdown",
   "metadata": {},
   "source": [
    "Therefore we only have outliers in the charges column - 139 of them, and we will drop those outliers"
   ]
  },
  {
   "cell_type": "code",
   "execution_count": 278,
   "metadata": {},
   "outputs": [
    {
     "data": {
      "text/html": "<div>\n<style scoped>\n    .dataframe tbody tr th:only-of-type {\n        vertical-align: middle;\n    }\n\n    .dataframe tbody tr th {\n        vertical-align: top;\n    }\n\n    .dataframe thead th {\n        text-align: right;\n    }\n</style>\n<table border=\"1\" class=\"dataframe\">\n  <thead>\n    <tr style=\"text-align: right;\">\n      <th></th>\n      <th>age</th>\n      <th>sex</th>\n      <th>bmi</th>\n      <th>children</th>\n      <th>smoker</th>\n      <th>region</th>\n      <th>charges</th>\n    </tr>\n  </thead>\n  <tbody>\n    <tr>\n      <th>6</th>\n      <td>46</td>\n      <td>female</td>\n      <td>33.44</td>\n      <td>1</td>\n      <td>no</td>\n      <td>southeast</td>\n      <td>8240.5896</td>\n    </tr>\n    <tr>\n      <th>7</th>\n      <td>37</td>\n      <td>female</td>\n      <td>27.74</td>\n      <td>3</td>\n      <td>no</td>\n      <td>northwest</td>\n      <td>7281.5056</td>\n    </tr>\n    <tr>\n      <th>8</th>\n      <td>37</td>\n      <td>male</td>\n      <td>29.83</td>\n      <td>2</td>\n      <td>no</td>\n      <td>northeast</td>\n      <td>6406.4107</td>\n    </tr>\n    <tr>\n      <th>13</th>\n      <td>56</td>\n      <td>female</td>\n      <td>39.82</td>\n      <td>0</td>\n      <td>no</td>\n      <td>southeast</td>\n      <td>11090.7178</td>\n    </tr>\n    <tr>\n      <th>16</th>\n      <td>52</td>\n      <td>female</td>\n      <td>30.78</td>\n      <td>1</td>\n      <td>no</td>\n      <td>northeast</td>\n      <td>10797.3362</td>\n    </tr>\n  </tbody>\n</table>\n</div>",
      "text/plain": "    age     sex    bmi  children smoker     region     charges\n6    46  female  33.44         1     no  southeast   8240.5896\n7    37  female  27.74         3     no  northwest   7281.5056\n8    37    male  29.83         2     no  northeast   6406.4107\n13   56  female  39.82         0     no  southeast  11090.7178\n16   52  female  30.78         1     no  northeast  10797.3362"
     },
     "execution_count": 278,
     "metadata": {},
     "output_type": "execute_result"
    }
   ],
   "source": [
    "cols = ['charges'] \r\n",
    "\r\n",
    "\r\n",
    "df_new = df[~((df[cols] < (q1 - 1.5 * iqr)) |(df[cols] > (q3 + 1.5 * iqr))).any(axis=1)]\r\n",
    "df_new.head()"
   ]
  },
  {
   "cell_type": "code",
   "execution_count": 279,
   "metadata": {},
   "outputs": [
    {
     "data": {
      "text/plain": "9386.1613"
     },
     "execution_count": 279,
     "metadata": {},
     "output_type": "execute_result"
    }
   ],
   "source": [
    "df_new[\"charges\"].median()"
   ]
  },
  {
   "cell_type": "markdown",
   "metadata": {},
   "source": [
    "### Now lets work on finding correlations"
   ]
  },
  {
   "cell_type": "code",
   "execution_count": 280,
   "metadata": {},
   "outputs": [
    {
     "data": {
      "text/html": "<div>\n<style scoped>\n    .dataframe tbody tr th:only-of-type {\n        vertical-align: middle;\n    }\n\n    .dataframe tbody tr th {\n        vertical-align: top;\n    }\n\n    .dataframe thead th {\n        text-align: right;\n    }\n</style>\n<table border=\"1\" class=\"dataframe\">\n  <thead>\n    <tr style=\"text-align: right;\">\n      <th></th>\n      <th>age</th>\n      <th>bmi</th>\n      <th>children</th>\n      <th>charges</th>\n    </tr>\n  </thead>\n  <tbody>\n    <tr>\n      <th>age</th>\n      <td>1.000000</td>\n      <td>0.181996</td>\n      <td>-0.286646</td>\n      <td>0.569416</td>\n    </tr>\n    <tr>\n      <th>bmi</th>\n      <td>0.181996</td>\n      <td>1.000000</td>\n      <td>-0.006908</td>\n      <td>0.003229</td>\n    </tr>\n    <tr>\n      <th>children</th>\n      <td>-0.286646</td>\n      <td>-0.006908</td>\n      <td>1.000000</td>\n      <td>-0.181423</td>\n    </tr>\n    <tr>\n      <th>charges</th>\n      <td>0.569416</td>\n      <td>0.003229</td>\n      <td>-0.181423</td>\n      <td>1.000000</td>\n    </tr>\n  </tbody>\n</table>\n</div>",
      "text/plain": "               age       bmi  children   charges\nage       1.000000  0.181996 -0.286646  0.569416\nbmi       0.181996  1.000000 -0.006908  0.003229\nchildren -0.286646 -0.006908  1.000000 -0.181423\ncharges   0.569416  0.003229 -0.181423  1.000000"
     },
     "execution_count": 280,
     "metadata": {},
     "output_type": "execute_result"
    }
   ],
   "source": [
    "df_new.corr()"
   ]
  },
  {
   "cell_type": "markdown",
   "metadata": {},
   "source": [
    "Slight correlations between age and charges and bmi and charges but none of the correlations give us anything really definitive, so lets take a look at Pearson Coefficients\r\n",
    "\r\n",
    "p-value is < 0.001: we say there is strong evidence that the correlation is significant. \\\r\n",
    "p-value is < 0.05: there is moderate evidence that the correlation is significant. \\\r\n",
    "p-value is < 0.1: there is weak evidence that the correlation is significant. \\\r\n",
    "p-value is > 0.1: there is no evidence that the correlation is significant."
   ]
  },
  {
   "cell_type": "code",
   "execution_count": 281,
   "metadata": {},
   "outputs": [
    {
     "name": "stdout",
     "output_type": "stream",
     "text": [
      "The Pearson Correlation Coefficient is 0.5694160243387112  with a P-value of P = 9.330179831384192e-59\n"
     ]
    }
   ],
   "source": [
    "pearson_coef, p_value = stats.pearsonr(df_new['age'], df_new['charges'])\r\n",
    "print(\"The Pearson Correlation Coefficient is\", pearson_coef, \" with a P-value of P =\", p_value)"
   ]
  },
  {
   "cell_type": "code",
   "execution_count": 282,
   "metadata": {},
   "outputs": [
    {
     "name": "stdout",
     "output_type": "stream",
     "text": [
      "The Pearson Correlation Coefficient is 0.5694160243387112  with a P-value of P = 0.933563201385653\n"
     ]
    }
   ],
   "source": [
    "earson_coef, p_value = stats.pearsonr(df_new['bmi'], df_new['charges'])\r\n",
    "print(\"The Pearson Correlation Coefficient is\", pearson_coef, \" with a P-value of P =\", p_value)"
   ]
  },
  {
   "cell_type": "code",
   "execution_count": 283,
   "metadata": {},
   "outputs": [
    {
     "name": "stdout",
     "output_type": "stream",
     "text": [
      "The Pearson Correlation Coefficient is 0.5694160243387112  with a P-value of P = 2.3241392877118437e-06\n"
     ]
    }
   ],
   "source": [
    "earson_coef, p_value = stats.pearsonr(df_new['children'], df_new['charges'])\r\n",
    "print(\"The Pearson Correlation Coefficient is\", pearson_coef, \" with a P-value of P =\", p_value)"
   ]
  },
  {
   "cell_type": "code",
   "execution_count": 284,
   "metadata": {},
   "outputs": [
    {
     "data": {
      "text/plain": "(0.0, 66902.8557155)"
     },
     "execution_count": 284,
     "metadata": {},
     "output_type": "execute_result"
    },
    {
     "data": {
      "image/png": "[encoded data removed]",
      "text/plain": "<Figure size 432x288 with 1 Axes>"
     },
     "metadata": {
      "needs_background": "light"
     },
     "output_type": "display_data"
    }
   ],
   "source": [
    "# Age as potential predictor variable of cost\r\n",
    "sns.regplot(x=\"age\", y=\"charges\", data=df)\r\n",
    "plt.ylim(0,)"
   ]
  },
  {
   "cell_type": "code",
   "execution_count": 285,
   "metadata": {},
   "outputs": [
    {
     "data": {
      "text/plain": "(0.0, 66902.8557155)"
     },
     "execution_count": 285,
     "metadata": {},
     "output_type": "execute_result"
    },
    {
     "data": {
      "image/png": "[encoded data removed]",
      "text/plain": "<Figure size 432x288 with 1 Axes>"
     },
     "metadata": {
      "needs_background": "light"
     },
     "output_type": "display_data"
    }
   ],
   "source": [
    "# Children as potential predictor variable of cost\r\n",
    "sns.regplot(x=\"children\", y=\"charges\", data=df)\r\n",
    "plt.ylim(0,)"
   ]
  },
  {
   "cell_type": "code",
   "execution_count": 286,
   "metadata": {},
   "outputs": [
    {
     "data": {
      "text/plain": "(0.0, 66902.8557155)"
     },
     "execution_count": 286,
     "metadata": {},
     "output_type": "execute_result"
    },
    {
     "data": {
      "image/png": "[encoded data removed]",
      "text/plain": "<Figure size 432x288 with 1 Axes>"
     },
     "metadata": {
      "needs_background": "light"
     },
     "output_type": "display_data"
    }
   ],
   "source": [
    "# BMI as potential predictor variable of cost\r\n",
    "sns.regplot(x=\"bmi\", y=\"charges\", data=df)\r\n",
    "plt.ylim(0,)"
   ]
  },
  {
   "cell_type": "code",
   "execution_count": 287,
   "metadata": {},
   "outputs": [
    {
     "data": {
      "text/plain": "<AxesSubplot:xlabel='bmi', ylabel='charges'>"
     },
     "execution_count": 287,
     "metadata": {},
     "output_type": "execute_result"
    },
    {
     "data": {
      "image/png": "[encoded data removed]",
      "text/plain": "<Figure size 432x288 with 2 Axes>"
     },
     "metadata": {
      "needs_background": "light"
     },
     "output_type": "display_data"
    }
   ],
   "source": [
    "df1=pd.DataFrame(df, columns=[\"bmi\",\"charges\"])\r\n",
    "df1\r\n",
    "sns.histplot(\r\n",
    "    df1, x=\"bmi\", y=\"charges\",\r\n",
    "    bins=30, discrete=(False), log_scale=(False),\r\n",
    "    cbar=True, cbar_kws=dict(shrink=.75),\r\n",
    ")"
   ]
  },
  {
   "cell_type": "code",
   "execution_count": 288,
   "metadata": {},
   "outputs": [
    {
     "data": {
      "text/plain": "<AxesSubplot:xlabel='children', ylabel='charges'>"
     },
     "execution_count": 288,
     "metadata": {},
     "output_type": "execute_result"
    },
    {
     "data": {
      "image/png": "[encoded data removed]",
      "text/plain": "<Figure size 432x288 with 1 Axes>"
     },
     "metadata": {
      "needs_background": "light"
     },
     "output_type": "display_data"
    }
   ],
   "source": [
    "sns.boxplot(x=\"children\", y=\"charges\", data=df)"
   ]
  },
  {
   "cell_type": "code",
   "execution_count": 289,
   "metadata": {},
   "outputs": [
    {
     "data": {
      "text/html": "<div>\n<style scoped>\n    .dataframe tbody tr th:only-of-type {\n        vertical-align: middle;\n    }\n\n    .dataframe tbody tr th {\n        vertical-align: top;\n    }\n\n    .dataframe thead th {\n        text-align: right;\n    }\n</style>\n<table border=\"1\" class=\"dataframe\">\n  <thead>\n    <tr style=\"text-align: right;\">\n      <th></th>\n      <th>region</th>\n      <th>charges</th>\n    </tr>\n  </thead>\n  <tbody>\n    <tr>\n      <th>0</th>\n      <td>northeast</td>\n      <td>13406.384516</td>\n    </tr>\n    <tr>\n      <th>1</th>\n      <td>northwest</td>\n      <td>12450.840844</td>\n    </tr>\n    <tr>\n      <th>2</th>\n      <td>southeast</td>\n      <td>14735.411438</td>\n    </tr>\n    <tr>\n      <th>3</th>\n      <td>southwest</td>\n      <td>12346.937377</td>\n    </tr>\n  </tbody>\n</table>\n</div>",
      "text/plain": "      region       charges\n0  northeast  13406.384516\n1  northwest  12450.840844\n2  southeast  14735.411438\n3  southwest  12346.937377"
     },
     "execution_count": 289,
     "metadata": {},
     "output_type": "execute_result"
    }
   ],
   "source": [
    "#group by region\r\n",
    "df_group_one = df[['region','charges']]\r\n",
    "df_group_one = df_group_one.groupby(['region'],as_index=False).mean()\r\n",
    "df_group_one"
   ]
  },
  {
   "cell_type": "code",
   "execution_count": 290,
   "metadata": {},
   "outputs": [
    {
     "data": {
      "text/html": "<div>\n<style scoped>\n    .dataframe tbody tr th:only-of-type {\n        vertical-align: middle;\n    }\n\n    .dataframe tbody tr th {\n        vertical-align: top;\n    }\n\n    .dataframe thead th {\n        text-align: right;\n    }\n</style>\n<table border=\"1\" class=\"dataframe\">\n  <thead>\n    <tr style=\"text-align: right;\">\n      <th></th>\n      <th>smoker</th>\n      <th>charges</th>\n    </tr>\n  </thead>\n  <tbody>\n    <tr>\n      <th>0</th>\n      <td>no</td>\n      <td>8440.660307</td>\n    </tr>\n    <tr>\n      <th>1</th>\n      <td>yes</td>\n      <td>32050.231832</td>\n    </tr>\n  </tbody>\n</table>\n</div>",
      "text/plain": "  smoker       charges\n0     no   8440.660307\n1    yes  32050.231832"
     },
     "execution_count": 290,
     "metadata": {},
     "output_type": "execute_result"
    }
   ],
   "source": [
    "#group by smoker or non-smoker\r\n",
    "df_group_two = df[['smoker','charges']]\r\n",
    "df_group_two = df_group_two.groupby(['smoker'],as_index=False).mean()\r\n",
    "df_group_two"
   ]
  },
  {
   "cell_type": "code",
   "execution_count": 291,
   "metadata": {},
   "outputs": [
    {
     "data": {
      "text/html": "<div>\n<style scoped>\n    .dataframe tbody tr th:only-of-type {\n        vertical-align: middle;\n    }\n\n    .dataframe tbody tr th {\n        vertical-align: top;\n    }\n\n    .dataframe thead th {\n        text-align: right;\n    }\n</style>\n<table border=\"1\" class=\"dataframe\">\n  <thead>\n    <tr style=\"text-align: right;\">\n      <th></th>\n      <th>sex</th>\n      <th>charges</th>\n    </tr>\n  </thead>\n  <tbody>\n    <tr>\n      <th>0</th>\n      <td>female</td>\n      <td>12569.578844</td>\n    </tr>\n    <tr>\n      <th>1</th>\n      <td>male</td>\n      <td>13974.998864</td>\n    </tr>\n  </tbody>\n</table>\n</div>",
      "text/plain": "      sex       charges\n0  female  12569.578844\n1    male  13974.998864"
     },
     "execution_count": 291,
     "metadata": {},
     "output_type": "execute_result"
    }
   ],
   "source": [
    "df_group_three = df[['sex','charges']]\r\n",
    "df_group_three = df_group_three.groupby(['sex'],as_index=False).mean()\r\n",
    "df_group_three"
   ]
  },
  {
   "cell_type": "markdown",
   "metadata": {},
   "source": [
    "Next Let's take a look at ANOVA:\r\n",
    "\r\n",
    "**ANOVA**: Analysis of Variance\r\n",
    "The Analysis of Variance (ANOVA) is a statistical method used to test whether there are significant differences between the means of two or more groups. ANOVA returns two parameters:\r\n",
    "\r\n",
    "**F-test score**: ANOVA assumes the means of all groups are the same, calculates how much the actual means deviate from the assumption, and reports it as the F-test score. *A larger score means there is a larger difference between the means*.\r\n",
    "\r\n",
    "**P-value**: P-value tells how statistically significant is our calculated score value.\r\n",
    "\r\n",
    "If our price variable is strongly correlated with the variable we are analyzing, expect ANOVA to return a sizeable F-test score and a small p-value."
   ]
  },
  {
   "cell_type": "code",
   "execution_count": 292,
   "metadata": {},
   "outputs": [
    {
     "name": "stdout",
     "output_type": "stream",
     "text": [
      "ANOVA results: F= 2.926139903662776 , P = 0.03276288025444947\n"
     ]
    }
   ],
   "source": [
    "df_group_one=df[['region', 'charges']].groupby(['region'])\r\n",
    "f_val, p_val = stats.f_oneway(df_group_one.get_group('northeast')['charges'], df_group_one.get_group('northwest')['charges'], df_group_one.get_group('southeast')['charges'], df_group_one.get_group('southwest')['charges'])  \r\n",
    " \r\n",
    "print( \"ANOVA results: F=\", f_val, \", P =\", p_val)"
   ]
  },
  {
   "cell_type": "code",
   "execution_count": 293,
   "metadata": {},
   "outputs": [
    {
     "name": "stdout",
     "output_type": "stream",
     "text": [
      "ANOVA results: F= 2175.7368631272116 , P = 1.4067220949358597e-282\n"
     ]
    }
   ],
   "source": [
    "df_group_two=df[['smoker', 'charges']].groupby(['smoker'])\r\n",
    "f_val, p_val = stats.f_oneway(df_group_two.get_group('yes')['charges'], df_group_two.get_group('no')['charges'])  \r\n",
    " \r\n",
    "print( \"ANOVA results: F=\", f_val, \", P =\", p_val)"
   ]
  },
  {
   "cell_type": "code",
   "execution_count": 294,
   "metadata": {},
   "outputs": [
    {
     "name": "stdout",
     "output_type": "stream",
     "text": [
      "ANOVA results: F= 4.513038425520686 , P = 0.033820791995078286\n"
     ]
    }
   ],
   "source": [
    "df_group_three=df[['sex', 'charges']].groupby(['sex'])\r\n",
    "f_val, p_val = stats.f_oneway(df_group_three.get_group('female')['charges'], df_group_three.get_group('male')['charges'])\r\n",
    " \r\n",
    "print( \"ANOVA results: F=\", f_val, \", P =\", p_val)"
   ]
  },
  {
   "cell_type": "markdown",
   "metadata": {},
   "source": [
    "From all that we have gathered it appears the most important variables will be:\r\n",
    "\r\n",
    "* Age\r\n",
    "* Region\r\n",
    "* Smoker Status\r\n",
    "* BMI"
   ]
  },
  {
   "cell_type": "code",
   "execution_count": 295,
   "metadata": {},
   "outputs": [],
   "source": [
    "#normalize the data - convert the categorical variables to something we can visualize\r\n",
    "df['sex'].replace(to_replace=['male','female'], value=[0,1],inplace=True)\r\n"
   ]
  },
  {
   "cell_type": "code",
   "execution_count": 296,
   "metadata": {},
   "outputs": [],
   "source": [
    "df['region'].replace(to_replace=['southeast','northeast','southwest','northwest'], value=[0,1,2,3],inplace=True)"
   ]
  },
  {
   "cell_type": "code",
   "execution_count": 297,
   "metadata": {},
   "outputs": [
    {
     "data": {
      "text/html": "<div>\n<style scoped>\n    .dataframe tbody tr th:only-of-type {\n        vertical-align: middle;\n    }\n\n    .dataframe tbody tr th {\n        vertical-align: top;\n    }\n\n    .dataframe thead th {\n        text-align: right;\n    }\n</style>\n<table border=\"1\" class=\"dataframe\">\n  <thead>\n    <tr style=\"text-align: right;\">\n      <th></th>\n      <th>age</th>\n      <th>sex</th>\n      <th>bmi</th>\n      <th>children</th>\n      <th>smoker</th>\n      <th>region</th>\n      <th>charges</th>\n    </tr>\n  </thead>\n  <tbody>\n    <tr>\n      <th>0</th>\n      <td>19</td>\n      <td>1</td>\n      <td>27.900</td>\n      <td>0</td>\n      <td>0</td>\n      <td>2</td>\n      <td>16884.92400</td>\n    </tr>\n    <tr>\n      <th>1</th>\n      <td>18</td>\n      <td>0</td>\n      <td>33.770</td>\n      <td>1</td>\n      <td>1</td>\n      <td>0</td>\n      <td>1725.55230</td>\n    </tr>\n    <tr>\n      <th>2</th>\n      <td>28</td>\n      <td>0</td>\n      <td>33.000</td>\n      <td>3</td>\n      <td>1</td>\n      <td>0</td>\n      <td>4449.46200</td>\n    </tr>\n    <tr>\n      <th>3</th>\n      <td>33</td>\n      <td>0</td>\n      <td>22.705</td>\n      <td>0</td>\n      <td>1</td>\n      <td>3</td>\n      <td>21984.47061</td>\n    </tr>\n    <tr>\n      <th>4</th>\n      <td>32</td>\n      <td>0</td>\n      <td>28.880</td>\n      <td>0</td>\n      <td>1</td>\n      <td>3</td>\n      <td>3866.85520</td>\n    </tr>\n  </tbody>\n</table>\n</div>",
      "text/plain": "   age  sex     bmi  children  smoker  region      charges\n0   19    1  27.900         0       0       2  16884.92400\n1   18    0  33.770         1       1       0   1725.55230\n2   28    0  33.000         3       1       0   4449.46200\n3   33    0  22.705         0       1       3  21984.47061\n4   32    0  28.880         0       1       3   3866.85520"
     },
     "execution_count": 297,
     "metadata": {},
     "output_type": "execute_result"
    }
   ],
   "source": [
    "df['smoker'].replace(to_replace=['yes','no'], value=[0,1],inplace=True)\r\n",
    "df.head()"
   ]
  },
  {
   "cell_type": "code",
   "execution_count": 298,
   "metadata": {},
   "outputs": [
    {
     "data": {
      "text/html": "<div>\n<style scoped>\n    .dataframe tbody tr th:only-of-type {\n        vertical-align: middle;\n    }\n\n    .dataframe tbody tr th {\n        vertical-align: top;\n    }\n\n    .dataframe thead th {\n        text-align: right;\n    }\n</style>\n<table border=\"1\" class=\"dataframe\">\n  <thead>\n    <tr style=\"text-align: right;\">\n      <th></th>\n      <th>age</th>\n      <th>region</th>\n      <th>smoker</th>\n    </tr>\n  </thead>\n  <tbody>\n    <tr>\n      <th>0</th>\n      <td>19</td>\n      <td>2</td>\n      <td>0</td>\n    </tr>\n    <tr>\n      <th>1</th>\n      <td>18</td>\n      <td>0</td>\n      <td>1</td>\n    </tr>\n    <tr>\n      <th>2</th>\n      <td>28</td>\n      <td>0</td>\n      <td>1</td>\n    </tr>\n    <tr>\n      <th>3</th>\n      <td>33</td>\n      <td>3</td>\n      <td>1</td>\n    </tr>\n    <tr>\n      <th>4</th>\n      <td>32</td>\n      <td>3</td>\n      <td>1</td>\n    </tr>\n  </tbody>\n</table>\n</div>",
      "text/plain": "   age  region  smoker\n0   19       2       0\n1   18       0       1\n2   28       0       1\n3   33       3       1\n4   32       3       1"
     },
     "execution_count": 298,
     "metadata": {},
     "output_type": "execute_result"
    }
   ],
   "source": [
    "#pick our features\r\n",
    "Feature = df[['age','region','smoker']]\r\n",
    "X = Feature\r\n",
    "X[0:5]"
   ]
  },
  {
   "cell_type": "code",
   "execution_count": 299,
   "metadata": {},
   "outputs": [
    {
     "data": {
      "text/plain": "array([16884.924  ,  1725.5523 ,  4449.462  , 21984.47061,  3866.8552 ])"
     },
     "execution_count": 299,
     "metadata": {},
     "output_type": "execute_result"
    }
   ],
   "source": [
    "y = df['charges'].values\r\n",
    "y[0:5]"
   ]
  },
  {
   "cell_type": "code",
   "execution_count": 300,
   "metadata": {},
   "outputs": [
    {
     "data": {
      "text/plain": "array([[-1.44041773,  0.48180615, -1.96966039],\n       [-1.51164747, -1.28790489,  0.50770174],\n       [-0.79935006, -1.28790489,  0.50770174],\n       [-0.44320136,  1.36666167,  0.50770174],\n       [-0.5144311 ,  1.36666167,  0.50770174]])"
     },
     "execution_count": 300,
     "metadata": {},
     "output_type": "execute_result"
    }
   ],
   "source": [
    "#normalize the data\r\n",
    "X= preprocessing.StandardScaler().fit(X).transform(X)\r\n",
    "X[0:5]"
   ]
  },
  {
   "cell_type": "markdown",
   "metadata": {},
   "source": [
    "## Model Development and Evaluation"
   ]
  },
  {
   "cell_type": "code",
   "execution_count": 301,
   "metadata": {},
   "outputs": [
    {
     "data": {
      "text/html": "<div>\n<style scoped>\n    .dataframe tbody tr th:only-of-type {\n        vertical-align: middle;\n    }\n\n    .dataframe tbody tr th {\n        vertical-align: top;\n    }\n\n    .dataframe thead th {\n        text-align: right;\n    }\n</style>\n<table border=\"1\" class=\"dataframe\">\n  <thead>\n    <tr style=\"text-align: right;\">\n      <th></th>\n      <th>age</th>\n      <th>smoker</th>\n      <th>region</th>\n      <th>charges</th>\n      <th>bmi</th>\n    </tr>\n  </thead>\n  <tbody>\n    <tr>\n      <th>0</th>\n      <td>19</td>\n      <td>0</td>\n      <td>2</td>\n      <td>16884.92400</td>\n      <td>27.900</td>\n    </tr>\n    <tr>\n      <th>1</th>\n      <td>18</td>\n      <td>1</td>\n      <td>0</td>\n      <td>1725.55230</td>\n      <td>33.770</td>\n    </tr>\n    <tr>\n      <th>2</th>\n      <td>28</td>\n      <td>1</td>\n      <td>0</td>\n      <td>4449.46200</td>\n      <td>33.000</td>\n    </tr>\n    <tr>\n      <th>3</th>\n      <td>33</td>\n      <td>1</td>\n      <td>3</td>\n      <td>21984.47061</td>\n      <td>22.705</td>\n    </tr>\n    <tr>\n      <th>4</th>\n      <td>32</td>\n      <td>1</td>\n      <td>3</td>\n      <td>3866.85520</td>\n      <td>28.880</td>\n    </tr>\n  </tbody>\n</table>\n</div>",
      "text/plain": "   age  smoker  region      charges     bmi\n0   19       0       2  16884.92400  27.900\n1   18       1       0   1725.55230  33.770\n2   28       1       0   4449.46200  33.000\n3   33       1       3  21984.47061  22.705\n4   32       1       3   3866.85520  28.880"
     },
     "execution_count": 301,
     "metadata": {},
     "output_type": "execute_result"
    }
   ],
   "source": [
    "features = df[['age','smoker','region','charges', 'bmi']]\r\n",
    "features.head()"
   ]
  },
  {
   "cell_type": "code",
   "execution_count": 302,
   "metadata": {},
   "outputs": [],
   "source": [
    "msk = np.random.rand(len(df)) < 0.8\r\n",
    "train = features[msk]\r\n",
    "test = features[~msk]"
   ]
  },
  {
   "cell_type": "code",
   "execution_count": 303,
   "metadata": {},
   "outputs": [
    {
     "name": "stdout",
     "output_type": "stream",
     "text": [
      "Coefficients:  [[   252.26732087 -23634.96131287    329.35203485    143.93696721]]\n"
     ]
    }
   ],
   "source": [
    "from sklearn import linear_model\r\n",
    "regr = linear_model.LinearRegression()\r\n",
    "x = np.asanyarray(train[['age','smoker','bmi','region']])\r\n",
    "y = np.asanyarray(train[['charges']])\r\n",
    "regr.fit (x, y)\r\n",
    "# The coefficients\r\n",
    "print ('Coefficients: ', regr.coef_)"
   ]
  },
  {
   "cell_type": "code",
   "execution_count": 304,
   "metadata": {},
   "outputs": [
    {
     "name": "stdout",
     "output_type": "stream",
     "text": [
      "Residual sum of squares: 35159919.08\n",
      "Variance score: 0.77\n"
     ]
    }
   ],
   "source": [
    "y_hat= regr.predict(test[['age','smoker','bmi','region']])\r\n",
    "x = np.asanyarray(test[['age','smoker','bmi','region']])\r\n",
    "y = np.asanyarray(test[['charges']])\r\n",
    "print(\"Residual sum of squares: %.2f\"\r\n",
    "      % np.mean((y_hat - y) ** 2))\r\n",
    "\r\n",
    "# Explained variance score: 1 is perfect prediction\r\n",
    "print('Variance score: %.2f' % regr.score(x, y))"
   ]
  },
  {
   "cell_type": "markdown",
   "metadata": {},
   "source": [
    "Not great, but not terrible. Let's try something a little bit more complex"
   ]
  },
  {
   "cell_type": "code",
   "execution_count": 305,
   "metadata": {},
   "outputs": [
    {
     "name": "stdout",
     "output_type": "stream",
     "text": [
      "0.7439242185818471\n"
     ]
    }
   ],
   "source": [
    "x = df.drop(['charges'], axis = 1)\r\n",
    "y = df.charges\r\n",
    "\r\n",
    "x_train,x_test,y_train,y_test = train_test_split(x,y, random_state = 0)\r\n",
    "lm = LinearRegression().fit(x_train,y_train)\r\n",
    "\r\n",
    "y_train_pred = lr.predict(x_train)\r\n",
    "y_test_pred = lr.predict(x_test)\r\n",
    "\r\n",
    "print(lm.score(x_test,y_test))"
   ]
  },
  {
   "cell_type": "code",
   "execution_count": 306,
   "metadata": {},
   "outputs": [
    {
     "name": "stdout",
     "output_type": "stream",
     "text": [
      "0.8338361954146063\n"
     ]
    }
   ],
   "source": [
    "X = df.drop(['charges','sex','children'], axis = 1)\r\n",
    "Y = df.charges\r\n",
    "\r\n",
    "\r\n",
    "\r\n",
    "quad = PolynomialFeatures (degree = 2)\r\n",
    "x_quad = quad.fit_transform(X)\r\n",
    "\r\n",
    "X_train,X_test,Y_train,Y_test = train_test_split(x_quad,Y, random_state = 0)\r\n",
    "\r\n",
    "plr = LinearRegression().fit(X_train,Y_train)\r\n",
    "\r\n",
    "Y_train_pred = plr.predict(X_train)\r\n",
    "Y_test_pred = plr.predict(X_test)\r\n",
    "\r\n",
    "print(plr.score(X_test,Y_test))"
   ]
  },
  {
   "cell_type": "code",
   "execution_count": 307,
   "metadata": {},
   "outputs": [
    {
     "name": "stdout",
     "output_type": "stream",
     "text": [
      "MSE train data: 3390710.972, MSE test data: 26048215.556\n",
      "R2 train data: 0.976, R2 test data: 0.837\n"
     ]
    }
   ],
   "source": [
    "from sklearn.linear_model import LinearRegression\r\n",
    "from sklearn.model_selection import train_test_split\r\n",
    "from sklearn.preprocessing import PolynomialFeatures\r\n",
    "from sklearn.metrics import r2_score,mean_squared_error\r\n",
    "from sklearn.ensemble import RandomForestRegressor\r\n",
    "\r\n",
    "forest = RandomForestRegressor(n_estimators = 100,\r\n",
    "                              criterion = 'mse',\r\n",
    "                              random_state = 1,\r\n",
    "                              n_jobs = -1)\r\n",
    "forest.fit(x_train,y_train)\r\n",
    "forest_train_pred = forest.predict(x_train)\r\n",
    "forest_test_pred = forest.predict(x_test)\r\n",
    "\r\n",
    "print('MSE train data: %.3f, MSE test data: %.3f' % (\r\n",
    "mean_squared_error(y_train,forest_train_pred),\r\n",
    "mean_squared_error(y_test,forest_test_pred)))\r\n",
    "print('R2 train data: %.3f, R2 test data: %.3f' % (\r\n",
    "r2_score(y_train,forest_train_pred),\r\n",
    "r2_score(y_test,forest_test_pred)))"
   ]
  },
  {
   "cell_type": "code",
   "execution_count": 308,
   "metadata": {},
   "outputs": [
    {
     "data": {
      "image/png": "[encoded data removed]",
      "text/plain": "<Figure size 720x432 with 1 Axes>"
     },
     "metadata": {
      "needs_background": "light"
     },
     "output_type": "display_data"
    }
   ],
   "source": [
    "plt.figure(figsize=(10,6))\r\n",
    "\r\n",
    "plt.scatter(forest_train_pred,forest_train_pred - y_train,\r\n",
    "          c = 'black', marker = 'o', s = 35, alpha = 0.5,\r\n",
    "          label = 'Train data')\r\n",
    "plt.scatter(forest_test_pred,forest_test_pred - y_test,\r\n",
    "          c = 'b', marker = 'o', s = 35, alpha = 0.5,\r\n",
    "          label = 'Test data')\r\n",
    "plt.xlabel('Predicted values')\r\n",
    "plt.ylabel('Tailings')\r\n",
    "plt.legend(loc = 'upper left')\r\n",
    "plt.hlines(y = 0, xmin = 0, xmax = 60000, lw = 2, color = 'red')\r\n",
    "plt.show()"
   ]
  },
  {
   "cell_type": "markdown",
   "metadata": {},
   "source": [
    "## Results"
   ]
  },
  {
   "cell_type": "markdown",
   "metadata": {},
   "source": [
    "Result & Implication of the result"
   ]
  },
  {
   "cell_type": "markdown",
   "metadata": {},
   "source": [
    "## Discussion"
   ]
  },
  {
   "cell_type": "markdown",
   "metadata": {},
   "source": [
    "## Conclusion"
   ]
  }
 ],
 "metadata": {
  "kernelspec": {
   "display_name": "Python 3.8.5 64-bit ('base': conda)",
   "name": "python385jvsc74a57bd069abb6d4a9bde4ff1167fc0b87078376cff2c96903584aca46f6c32bdc27459d"
  },
  "language_info": {
   "codemirror_mode": {
    "name": "ipython",
    "version": 3
   },
   "file_extension": ".py",
   "mimetype": "text/x-python",
   "name": "python",
   "nbconvert_exporter": "python",
   "pygments_lexer": "ipython3",
   "version": "3.8.5"
  },
  "metadata": {
   "interpreter": {
    "hash": "3cffe4545cb87d676d7e2e037c764b0760c134b3f05d4485e6274a8459371ad6"
   }
  },
  "orig_nbformat": 2
 },
 "nbformat": 4,
 "nbformat_minor": 2
}